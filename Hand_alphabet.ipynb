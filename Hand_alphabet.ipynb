{
 "cells": [
  {
   "cell_type": "code",
   "execution_count": 1,
   "metadata": {
    "scrolled": true
   },
   "outputs": [],
   "source": [
    "import numpy as np\n",
    "import tensorflow as tf\n",
    "from tensorflow.keras import  Sequential\n",
    "from tensorflow.keras.layers import Dense , Dropout,Activation ,Flatten,Conv2D,MaxPool2D\n",
    "import matplotlib.pyplot as plt\n",
    "from sklearn.model_selection import train_test_split\n",
    "import cv2\n",
    "import random\n",
    "import os"
   ]
  },
  {
   "cell_type": "code",
   "execution_count": 2,
   "metadata": {},
   "outputs": [],
   "source": [
    "Directory='/home/mjs/Downloads/datasets/asl-alphabet-test'\n",
    "Name=[name for name in os.listdir('/home/mjs/Downloads/datasets/asl-alphabet-test/')]\n",
    "Image_size=50\n",
    "\n",
    "training_data=[]\n",
    "for name in Name:\n",
    "        path=os.path.join(Directory,name) \n",
    "        class_num=Name.index(name)\n",
    "        for img in os.listdir(path):\n",
    "            try:\n",
    "                img_array=cv2.imread(os.path.join(path,img),cv2.IMREAD_GRAYSCALE)\n",
    "                new_array=cv2.resize(img_array,(Image_size,Image_size))\n",
    "                training_data.append([new_array,class_num])\n",
    "            except Exception as e:\n",
    "                pass"
   ]
  },
  {
   "cell_type": "code",
   "execution_count": 8,
   "metadata": {},
   "outputs": [],
   "source": [
    "x=[]\n",
    "y=[]\n",
    "random.shuffle(training_data)\n",
    "for pic,name in training_data:\n",
    "    x.append(pic)\n",
    "    y.append(name)\n",
    "    \n",
    "    \n",
    "x=np.array(x).reshape(-1,Image_size,Image_size,1)\n",
    "y=np.array(y)\n",
    "x_train,x_test,y_train,y_test=train_test_split(x,y,train_size=0.8)\n",
    "\n",
    "x_train=x_train/[[265]]\n",
    "x_test=x_test/[[265]]"
   ]
  },
  {
   "cell_type": "code",
   "execution_count": 9,
   "metadata": {},
   "outputs": [
    {
     "data": {
      "text/plain": [
       "<matplotlib.image.AxesImage at 0x7f2d6f8f4940>"
      ]
     },
     "execution_count": 9,
     "metadata": {},
     "output_type": "execute_result"
    },
    {
     "data": {
      "image/png": "[encoded data removed]",
      "text/plain": [
       "<Figure size 432x288 with 1 Axes>"
      ]
     },
     "metadata": {
      "needs_background": "light"
     },
     "output_type": "display_data"
    }
   ],
   "source": [
    "plt.imshow(x_train[0,:,:,0],cmap='gray')"
   ]
  },
  {
   "cell_type": "code",
   "execution_count": 10,
   "metadata": {},
   "outputs": [
    {
     "name": "stdout",
     "output_type": "stream",
     "text": [
      "Train on 696 samples\n",
      "Epoch 1/10\n",
      "696/696 [==============================] - 1s 2ms/sample - loss: 14.0224 - accuracy: 0.9986\n",
      "Epoch 2/10\n",
      "696/696 [==============================] - 1s 971us/sample - loss: 14.0224 - accuracy: 0.9986\n",
      "Epoch 3/10\n",
      "696/696 [==============================] - 1s 974us/sample - loss: 14.0224 - accuracy: 0.9986\n",
      "Epoch 4/10\n",
      "696/696 [==============================] - 1s 979us/sample - loss: 14.0224 - accuracy: 0.9986\n",
      "Epoch 5/10\n",
      "696/696 [==============================] - 1s 979us/sample - loss: 14.0224 - accuracy: 0.9986\n",
      "Epoch 6/10\n",
      "696/696 [==============================] - 1s 974us/sample - loss: 14.0224 - accuracy: 0.9986\n",
      "Epoch 7/10\n",
      "696/696 [==============================] - 1s 977us/sample - loss: 14.0224 - accuracy: 0.9986\n",
      "Epoch 8/10\n",
      "696/696 [==============================] - 1s 983us/sample - loss: 14.0224 - accuracy: 0.9986\n",
      "Epoch 9/10\n",
      "696/696 [==============================] - 1s 993us/sample - loss: 14.0224 - accuracy: 0.9986\n",
      "Epoch 10/10\n",
      "696/696 [==============================] - 1s 992us/sample - loss: 14.0224 - accuracy: 0.9986\n"
     ]
    },
    {
     "data": {
      "text/plain": [
       "<tensorflow.python.keras.callbacks.History at 0x7f2d6f7c0828>"
      ]
     },
     "execution_count": 10,
     "metadata": {},
     "output_type": "execute_result"
    }
   ],
   "source": [
    "model=Sequential()\n",
    "\n",
    "model.add(Conv2D(32,(3,3),activation='relu',input_shape=x.shape[1:]))\n",
    "model.add(MaxPool2D(pool_size=(2, 2)))\n",
    "\n",
    "model.add(Conv2D(32,(3,3),activation='relu'))\n",
    "model.add(MaxPool2D(pool_size=(2, 2)))\n",
    "\n",
    "\n",
    "model.add(Flatten())\n",
    "\n",
    "model.add(Dense(32,activation='relu'))\n",
    "\n",
    "model.add(Dense(30,activation='softmax'))\n",
    "\n",
    "model.compile(loss=\"mean_absolute_error\",optimizer=\"adam\",metrics=[\"accuracy\"])\n",
    "\n",
    "model.fit(x_train,y_train,epochs=10)"
   ]
  },
  {
   "cell_type": "code",
   "execution_count": 11,
   "metadata": {},
   "outputs": [
    {
     "name": "stdout",
     "output_type": "stream",
     "text": [
      "Model: \"sequential_1\"\n",
      "_________________________________________________________________\n",
      "Layer (type)                 Output Shape              Param #   \n",
      "=================================================================\n",
      "conv2d_2 (Conv2D)            (None, 48, 48, 32)        320       \n",
      "_________________________________________________________________\n",
      "max_pooling2d_2 (MaxPooling2 (None, 24, 24, 32)        0         \n",
      "_________________________________________________________________\n",
      "conv2d_3 (Conv2D)            (None, 22, 22, 32)        9248      \n",
      "_________________________________________________________________\n",
      "max_pooling2d_3 (MaxPooling2 (None, 11, 11, 32)        0         \n",
      "_________________________________________________________________\n",
      "flatten_1 (Flatten)          (None, 3872)              0         \n",
      "_________________________________________________________________\n",
      "dense_2 (Dense)              (None, 32)                123936    \n",
      "_________________________________________________________________\n",
      "dense_3 (Dense)              (None, 30)                990       \n",
      "=================================================================\n",
      "Total params: 134,494\n",
      "Trainable params: 134,494\n",
      "Non-trainable params: 0\n",
      "_________________________________________________________________\n"
     ]
    }
   ],
   "source": [
    "model.summary()"
   ]
  },
  {
   "cell_type": "code",
   "execution_count": 12,
   "metadata": {
    "scrolled": true
   },
   "outputs": [
    {
     "name": "stdout",
     "output_type": "stream",
     "text": [
      "\r",
      "174/1 [====================================================================================================================================================================================================================================================================================================================================================================================================================================================================================================================================================================================================================================================================================================================================================================================================================================================================================================================================================================================================================================================================================================================================================================================================================================================================================================================================================================================================================================================================================================================================================================================================================================================================================================================================================================================================================================================================================================================================================================================================================================================================================================================================================================================================================================================================================================================================================================================================================================================================================================================================================================================================================================================================================================================================================================================================================================================================================================================================================================================================================================================================================================================================================================================================================================================================================================================================================================================================================================================================================================================================================================================================================================================================================================================================================================================================================================================================================================================================================================================================================================================================================================================================================================================================================================================================================================================================================================================================================================================================================================================================================================================================================================================================================================================================================================================================================================================================================================================================================================================================================================================================================================================================================================================================================================================================================================================================================================================================================================] - 0s 652us/sample - loss: 15.5924 - accuracy: 1.0000\n"
     ]
    },
    {
     "data": {
      "text/plain": [
       "[14.789655422342234, 1.0]"
      ]
     },
     "execution_count": 12,
     "metadata": {},
     "output_type": "execute_result"
    }
   ],
   "source": [
    "model.evaluate(x_test,y_test)"
   ]
  },
  {
   "cell_type": "code",
   "execution_count": null,
   "metadata": {},
   "outputs": [],
   "source": []
  }
 ],
 "metadata": {
  "kernelspec": {
   "display_name": "Python 3",
   "language": "python",
   "name": "python3"
  },
  "language_info": {
   "codemirror_mode": {
    "name": "ipython",
    "version": 3
   },
   "file_extension": ".py",
   "mimetype": "text/x-python",
   "name": "python",
   "nbconvert_exporter": "python",
   "pygments_lexer": "ipython3",
   "version": "3.6.8"
  }
 },
 "nbformat": 4,
 "nbformat_minor": 2
}
